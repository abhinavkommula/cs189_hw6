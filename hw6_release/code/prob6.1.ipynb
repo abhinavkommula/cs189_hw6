{
 "cells": [
  {
   "cell_type": "code",
   "execution_count": 22,
   "id": "a279c935",
   "metadata": {},
   "outputs": [
    {
     "name": "stdout",
     "output_type": "stream",
     "text": [
      "6.1.1 Norm difference:  0.0\n",
      "6.1.2 Norm difference:  0.0\n",
      "6.1.3 Norm difference:  0.0\n"
     ]
    }
   ],
   "source": [
    "import numpy as np\n",
    "from numpy import einsum\n",
    "\n",
    "# 6.1.1\n",
    "A = np.random.rand(5, 5)\n",
    "einsum_trace = np.einsum('ii', A) \n",
    "\n",
    "print(\"6.1.1 Norm difference: \", np.linalg.norm(np.trace(A) - einsum_trace))\n",
    "\n",
    "# 6.1.2\n",
    "b = np.random.rand(5)\n",
    "einsum_mult = np.einsum('ij,j->i', A, b)\n",
    "print(\"6.1.2 Norm difference: \", np.linalg.norm(np.dot(A, b) - einsum_mult))\n",
    "\n",
    "# 6.1.3\n",
    "a = np.random.rand(5)\n",
    "einsum_outer = np.einsum('i,j->ij', a, b)\n",
    "print(\"6.1.3 Norm difference: \", np.linalg.norm(np.outer(a, b) - einsum_outer))"
   ]
  },
  {
   "cell_type": "code",
   "execution_count": null,
   "id": "d0f85c2a",
   "metadata": {},
   "outputs": [],
   "source": []
  }
 ],
 "metadata": {
  "kernelspec": {
   "display_name": "Python 3 (ipykernel)",
   "language": "python",
   "name": "python3"
  },
  "language_info": {
   "codemirror_mode": {
    "name": "ipython",
    "version": 3
   },
   "file_extension": ".py",
   "mimetype": "text/x-python",
   "name": "python",
   "nbconvert_exporter": "python",
   "pygments_lexer": "ipython3",
   "version": "3.8.9"
  }
 },
 "nbformat": 4,
 "nbformat_minor": 5
}
